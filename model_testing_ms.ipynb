{
 "cells": [
  {
   "cell_type": "code",
   "execution_count": 94,
   "metadata": {},
   "outputs": [
    {
     "name": "stdout",
     "output_type": "stream",
     "text": [
      "The autoreload extension is already loaded. To reload it, use:\n",
      "  %reload_ext autoreload\n"
     ]
    }
   ],
   "source": [
    "%load_ext autoreload\n",
    "%autoreload 2\n",
    "%matplotlib inline\n",
    "\n",
    "import pandas as pd\n",
    "import numpy as np\n",
    "import matplotlib.pyplot as plt\n",
    "import seaborn as sns\n",
    "import pickle\n",
    "import statsmodels as sm\n",
    "from sklearn.preprocessing import StandardScaler\n",
    "from sklearn.linear_model import LassoCV\n",
    "from statsmodels.tsa.arima_model import ARMA, ARIMA"
   ]
  },
  {
   "cell_type": "code",
   "execution_count": 51,
   "metadata": {},
   "outputs": [],
   "source": [
    "with open('data_processed/data_feat.pickle', 'rb') as handle:\n",
    "    data_feat = pickle.load(handle)\n",
    "X_train = data_feat[0]\n",
    "y_train = data_feat[1]\n",
    "X_test = data_feat[2]\n",
    "y_test = data_feat[3]"
   ]
  },
  {
   "cell_type": "code",
   "execution_count": 83,
   "metadata": {},
   "outputs": [
    {
     "data": {
      "text/plain": [
       "['step',\n",
       " 'spool',\n",
       " 'speed',\n",
       " 'motorV',\n",
       " 'extfrq',\n",
       " 'temp',\n",
       " 'd3',\n",
       " 'inv_sqrt_w',\n",
       " 'inv_sqrt_w2',\n",
       " 'mean_speed_roll_10',\n",
       " 'sum_speed_roll_10',\n",
       " 'mean_extfrq_roll_10',\n",
       " 'sum_extfrq_roll_10']"
      ]
     },
     "execution_count": 83,
     "metadata": {},
     "output_type": "execute_result"
    }
   ],
   "source": [
    "col_names = list(X_train.columns)\n",
    "col_names"
   ]
  },
  {
   "cell_type": "markdown",
   "metadata": {},
   "source": [
    "### Normalize Data"
   ]
  },
  {
   "cell_type": "code",
   "execution_count": 53,
   "metadata": {},
   "outputs": [],
   "source": [
    "scaler_X = StandardScaler()\n",
    "X_train_n = scaler_X.fit_transform(X_train)\n",
    "X_test_n = scaler_X.transform(X_test)\n",
    "\n",
    "scaler_y = StandardScaler()\n",
    "y_train_n = scaler_y.fit_transform(np.array(y_train).reshape(-1,1))\n",
    "y_test_n = scaler_y.transform(np.array(y_test).reshape(-1,1))"
   ]
  },
  {
   "cell_type": "markdown",
   "metadata": {},
   "source": [
    "## Regression Models\n"
   ]
  },
  {
   "cell_type": "code",
   "execution_count": 54,
   "metadata": {},
   "outputs": [
    {
     "name": "stderr",
     "output_type": "stream",
     "text": [
      "/Users/mschoder/.pyenv/versions/dev_374/lib/python3.7/site-packages/sklearn/linear_model/coordinate_descent.py:1100: DataConversionWarning: A column-vector y was passed when a 1d array was expected. Please change the shape of y to (n_samples, ), for example using ravel().\n",
      "  y = column_or_1d(y, warn=True)\n"
     ]
    },
    {
     "name": "stdout",
     "output_type": "stream",
     "text": [
      "Train R-Squared:  0.5732725136911497\n",
      "Test R-Squared:  0.5793971387553365\n"
     ]
    }
   ],
   "source": [
    "### LASSO\n",
    "lasso = LassoCV(cv=5, random_state=0, max_iter=10e4).fit(X_train_n, y_train_n)\n",
    "train_rsq = lasso.score(X_train_n, y_train_n)\n",
    "print('Train R-Squared: ', train_rsq)\n",
    "\n",
    "y_hat = lasso.predict(X_test_n)\n",
    "test_rsq = lasso.score(X_test_n, y_test_n)\n",
    "print('Test R-Squared: ', test_rsq)"
   ]
  },
  {
   "cell_type": "code",
   "execution_count": 79,
   "metadata": {},
   "outputs": [
    {
     "data": {
      "text/plain": [
       "0.00026706155288369127"
      ]
     },
     "execution_count": 79,
     "metadata": {},
     "output_type": "execute_result"
    }
   ],
   "source": [
    "lasso.alpha_"
   ]
  },
  {
   "cell_type": "code",
   "execution_count": 65,
   "metadata": {},
   "outputs": [
    {
     "data": {
      "text/plain": [
       "2"
      ]
     },
     "execution_count": 65,
     "metadata": {},
     "output_type": "execute_result"
    }
   ],
   "source": [
    "y_train_n.ndim"
   ]
  },
  {
   "cell_type": "markdown",
   "metadata": {},
   "source": [
    "## ARMAX "
   ]
  },
  {
   "cell_type": "code",
   "execution_count": 95,
   "metadata": {},
   "outputs": [
    {
     "name": "stderr",
     "output_type": "stream",
     "text": [
      "/Users/mschoder/.pyenv/versions/dev_374/lib/python3.7/site-packages/statsmodels/base/model.py:512: ConvergenceWarning: Maximum Likelihood optimization failed to converge. Check mle_retvals\n",
      "  \"Check mle_retvals\", ConvergenceWarning)\n"
     ]
    }
   ],
   "source": [
    "model = ARIMA(y_train_n, exog=X_train_n, order=(2, 2, 2))\n",
    "model_fit = model.fit(disp=True)"
   ]
  },
  {
   "cell_type": "code",
   "execution_count": 82,
   "metadata": {},
   "outputs": [
    {
     "name": "stdout",
     "output_type": "stream",
     "text": [
      "                              ARMA Model Results                              \n",
      "==============================================================================\n",
      "Dep. Variable:                      y   No. Observations:                51318\n",
      "Model:                     ARMA(2, 2)   Log Likelihood               14016.511\n",
      "Method:                       css-mle   S.D. of innovations              0.184\n",
      "Date:                Mon, 02 Dec 2019   AIC                         -27995.023\n",
      "Time:                        06:56:42   BIC                         -27826.953\n",
      "Sample:                             0   HQIC                        -27942.439\n",
      "                                                                              \n",
      "==============================================================================\n",
      "                 coef    std err          z      P>|z|      [0.025      0.975]\n",
      "------------------------------------------------------------------------------\n",
      "const       4.524e-05      0.019      0.002      0.998      -0.037       0.037\n",
      "x1            -0.2686      0.043     -6.202      0.000      -0.354      -0.184\n",
      "x2            -0.0051      0.040     -0.127      0.899      -0.084       0.074\n",
      "x3            -0.0319      0.055     -0.585      0.559      -0.139       0.075\n",
      "x4             0.3037      0.029     10.435      0.000       0.247       0.361\n",
      "x5            -0.1071      0.030     -3.538      0.000      -0.166      -0.048\n",
      "x6             0.0007      0.001      0.819      0.413      -0.001       0.002\n",
      "x7             0.0065      0.007      0.985      0.324      -0.006       0.019\n",
      "x8            -0.1845      0.113     -1.635      0.102      -0.406       0.037\n",
      "x9             0.1320      0.076      1.726      0.084      -0.018       0.282\n",
      "x10           -0.4031      0.103     -3.902      0.000      -0.605      -0.201\n",
      "x11           -1.1814      0.099    -11.884      0.000      -1.376      -0.987\n",
      "x12           -0.3331      0.126     -2.653      0.008      -0.579      -0.087\n",
      "x13            1.4322      0.128     11.185      0.000       1.181       1.683\n",
      "ar.L1.y        1.3143      0.044     29.539      0.000       1.227       1.401\n",
      "ar.L2.y       -0.3496      0.043     -8.213      0.000      -0.433      -0.266\n",
      "ma.L1.y       -0.2337      0.045     -5.249      0.000      -0.321      -0.146\n",
      "ma.L2.y        0.0481      0.008      6.101      0.000       0.033       0.064\n",
      "                                    Roots                                    \n",
      "=============================================================================\n",
      "                  Real          Imaginary           Modulus         Frequency\n",
      "-----------------------------------------------------------------------------\n",
      "AR.1            1.0594           +0.0000j            1.0594            0.0000\n",
      "AR.2            2.7005           +0.0000j            2.7005            0.0000\n",
      "MA.1            2.4303           -3.8593j            4.5607           -0.1606\n",
      "MA.2            2.4303           +3.8593j            4.5607            0.1606\n",
      "-----------------------------------------------------------------------------\n"
     ]
    }
   ],
   "source": [
    "print(model_fit.summary())"
   ]
  },
  {
   "cell_type": "code",
   "execution_count": 84,
   "metadata": {},
   "outputs": [],
   "source": [
    "# model_fit.predict(y_train, exog=X_train)"
   ]
  },
  {
   "cell_type": "markdown",
   "metadata": {},
   "source": [
    "## Shift/Lag Fits"
   ]
  },
  {
   "cell_type": "code",
   "execution_count": 92,
   "metadata": {},
   "outputs": [
    {
     "data": {
      "text/html": [
       "<div>\n",
       "<style scoped>\n",
       "    .dataframe tbody tr th:only-of-type {\n",
       "        vertical-align: middle;\n",
       "    }\n",
       "\n",
       "    .dataframe tbody tr th {\n",
       "        vertical-align: top;\n",
       "    }\n",
       "\n",
       "    .dataframe thead th {\n",
       "        text-align: right;\n",
       "    }\n",
       "</style>\n",
       "<table border=\"1\" class=\"dataframe\">\n",
       "  <thead>\n",
       "    <tr style=\"text-align: right;\">\n",
       "      <th></th>\n",
       "      <th>step</th>\n",
       "      <th>spool</th>\n",
       "      <th>speed</th>\n",
       "      <th>extfrq</th>\n",
       "      <th>temp</th>\n",
       "      <th>inv_sqrt_w</th>\n",
       "    </tr>\n",
       "  </thead>\n",
       "  <tbody>\n",
       "    <tr>\n",
       "      <th>0</th>\n",
       "      <td>100</td>\n",
       "      <td>3.57</td>\n",
       "      <td>85.84</td>\n",
       "      <td>82.86</td>\n",
       "      <td>79.692</td>\n",
       "      <td>0.107933</td>\n",
       "    </tr>\n",
       "    <tr>\n",
       "      <th>1</th>\n",
       "      <td>101</td>\n",
       "      <td>3.61</td>\n",
       "      <td>85.28</td>\n",
       "      <td>83.06</td>\n",
       "      <td>79.727</td>\n",
       "      <td>0.108287</td>\n",
       "    </tr>\n",
       "    <tr>\n",
       "      <th>2</th>\n",
       "      <td>102</td>\n",
       "      <td>3.65</td>\n",
       "      <td>84.88</td>\n",
       "      <td>83.19</td>\n",
       "      <td>79.589</td>\n",
       "      <td>0.108542</td>\n",
       "    </tr>\n",
       "    <tr>\n",
       "      <th>3</th>\n",
       "      <td>103</td>\n",
       "      <td>3.68</td>\n",
       "      <td>84.32</td>\n",
       "      <td>83.17</td>\n",
       "      <td>79.727</td>\n",
       "      <td>0.108902</td>\n",
       "    </tr>\n",
       "    <tr>\n",
       "      <th>4</th>\n",
       "      <td>104</td>\n",
       "      <td>3.72</td>\n",
       "      <td>84.24</td>\n",
       "      <td>83.33</td>\n",
       "      <td>79.658</td>\n",
       "      <td>0.108953</td>\n",
       "    </tr>\n",
       "    <tr>\n",
       "      <th>...</th>\n",
       "      <td>...</td>\n",
       "      <td>...</td>\n",
       "      <td>...</td>\n",
       "      <td>...</td>\n",
       "      <td>...</td>\n",
       "      <td>...</td>\n",
       "    </tr>\n",
       "    <tr>\n",
       "      <th>51313</th>\n",
       "      <td>2577</td>\n",
       "      <td>99.79</td>\n",
       "      <td>88.80</td>\n",
       "      <td>80.55</td>\n",
       "      <td>80.002</td>\n",
       "      <td>0.106119</td>\n",
       "    </tr>\n",
       "    <tr>\n",
       "      <th>51314</th>\n",
       "      <td>2578</td>\n",
       "      <td>99.82</td>\n",
       "      <td>88.56</td>\n",
       "      <td>80.39</td>\n",
       "      <td>80.002</td>\n",
       "      <td>0.106263</td>\n",
       "    </tr>\n",
       "    <tr>\n",
       "      <th>51315</th>\n",
       "      <td>2579</td>\n",
       "      <td>99.86</td>\n",
       "      <td>88.80</td>\n",
       "      <td>80.27</td>\n",
       "      <td>80.002</td>\n",
       "      <td>0.106119</td>\n",
       "    </tr>\n",
       "    <tr>\n",
       "      <th>51316</th>\n",
       "      <td>2580</td>\n",
       "      <td>99.90</td>\n",
       "      <td>88.96</td>\n",
       "      <td>80.16</td>\n",
       "      <td>80.002</td>\n",
       "      <td>0.106024</td>\n",
       "    </tr>\n",
       "    <tr>\n",
       "      <th>51317</th>\n",
       "      <td>2581</td>\n",
       "      <td>99.94</td>\n",
       "      <td>89.04</td>\n",
       "      <td>80.06</td>\n",
       "      <td>80.036</td>\n",
       "      <td>0.105976</td>\n",
       "    </tr>\n",
       "  </tbody>\n",
       "</table>\n",
       "<p>51318 rows × 6 columns</p>\n",
       "</div>"
      ],
      "text/plain": [
       "       step  spool  speed  extfrq    temp  inv_sqrt_w\n",
       "0       100   3.57  85.84   82.86  79.692    0.107933\n",
       "1       101   3.61  85.28   83.06  79.727    0.108287\n",
       "2       102   3.65  84.88   83.19  79.589    0.108542\n",
       "3       103   3.68  84.32   83.17  79.727    0.108902\n",
       "4       104   3.72  84.24   83.33  79.658    0.108953\n",
       "...     ...    ...    ...     ...     ...         ...\n",
       "51313  2577  99.79  88.80   80.55  80.002    0.106119\n",
       "51314  2578  99.82  88.56   80.39  80.002    0.106263\n",
       "51315  2579  99.86  88.80   80.27  80.002    0.106119\n",
       "51316  2580  99.90  88.96   80.16  80.002    0.106024\n",
       "51317  2581  99.94  89.04   80.06  80.036    0.105976\n",
       "\n",
       "[51318 rows x 6 columns]"
      ]
     },
     "execution_count": 92,
     "metadata": {},
     "output_type": "execute_result"
    }
   ],
   "source": [
    "X_train = X_train[['step', 'spool', 'speed', 'extfrq', 'temp', 'inv_sqrt_w']]\n",
    "\n",
    "speed_lag = 2\n",
    "speed_sd = 2\n",
    "extfrq_lag = 2\n",
    "extfrq_sd = 2\n",
    "\n",
    "X_train_p = "
   ]
  },
  {
   "cell_type": "code",
   "execution_count": null,
   "metadata": {},
   "outputs": [],
   "source": []
  },
  {
   "cell_type": "code",
   "execution_count": null,
   "metadata": {},
   "outputs": [],
   "source": []
  },
  {
   "cell_type": "code",
   "execution_count": null,
   "metadata": {},
   "outputs": [],
   "source": []
  }
 ],
 "metadata": {
  "kernelspec": {
   "display_name": "Python 3",
   "language": "python",
   "name": "python3"
  },
  "language_info": {
   "codemirror_mode": {
    "name": "ipython",
    "version": 3
   },
   "file_extension": ".py",
   "mimetype": "text/x-python",
   "name": "python",
   "nbconvert_exporter": "python",
   "pygments_lexer": "ipython3",
   "version": "3.7.4"
  }
 },
 "nbformat": 4,
 "nbformat_minor": 2
}
